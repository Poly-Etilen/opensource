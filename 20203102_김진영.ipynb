{
 "cells": [
  {
   "cell_type": "markdown",
   "id": "b4c5179b",
   "metadata": {},
   "source": [
    "## 이미지에서 윤곽선만 추출하기\n",
    "\n",
    "1. cv2 라이브러리에 접근하기 위해서 import를 해준다."
   ]
  },
  {
   "cell_type": "code",
   "execution_count": 17,
   "id": "c7929fd2",
   "metadata": {},
   "outputs": [],
   "source": [
    "import cv2"
   ]
  },
  {
   "cell_type": "markdown",
   "id": "68cbb5c1",
   "metadata": {},
   "source": [
    "1. 이미지를 불러들이기 위해 자신의 이미지가 있는 파일 경로를 설정한다.\n",
    "2. 파일 경로에서 불러들인 이미지를 img라는 변수에 저장한다."
   ]
  },
  {
   "cell_type": "code",
   "execution_count": 18,
   "id": "aaea612d",
   "metadata": {},
   "outputs": [],
   "source": [
    "file_path=r'C:\\Users\\USER\\Desktop\\picture.jpg'\n",
    "img=cv2.imread(file_path)"
   ]
  },
  {
   "cell_type": "markdown",
   "id": "5880841c",
   "metadata": {},
   "source": [
    "1. img을 Loaded image로서 이미지을 표시한다.\n",
    "2. 사용자가 아무 키를 누를 때까지 표시한다.\n",
    "3. 아무 키를 눌렀을 시 창을 닫는다."
   ]
  },
  {
   "cell_type": "code",
   "execution_count": 19,
   "id": "a11b1db4",
   "metadata": {},
   "outputs": [],
   "source": [
    "cv2.imshow('Loaded Image',img)\n",
    "cv2.waitKey(0)\n",
    "cv2.destroyAllWindows()"
   ]
  },
  {
   "cell_type": "markdown",
   "id": "3927e387",
   "metadata": {},
   "source": [
    "1. 잡음 제거를 위해 가우시안 블러를 적용하여, blurred에 저장한다.\n",
    "2. blurred를 흑백의 이미지로 변경하여 gray에 저장한다.\n",
    "3. cv2.threshhold는 변환값이 2개이기 때문에 첫번째 값을 무시하기 위해서 _,를 사용하였고, thresh는 임계값 처리가 된 이미지를 저장한다. 이때 gray를 기반으로 임계값을 50으로 설정한다. 만약 임계값이 초과 됬다면 255로 할당한다.\n",
    "4. 임계값 처리된 thresh에 cv.Canny함수를 사용하여 낮은 임계값을 50으로 설정하고, 높은 임계값을 150으로 설정하여 윤곽선을 추출한다."
   ]
  },
  {
   "cell_type": "code",
   "execution_count": 20,
   "id": "eba4de53",
   "metadata": {},
   "outputs": [],
   "source": [
    "blurred = cv2.GaussianBlur(img, (5, 5), 0)\n",
    "\n",
    "gray = cv2.cvtColor(blurred, cv2.IMREAD_GRAYSCALE)\n",
    "_, thresh = cv2.threshold(gray, 50, 255, cv2.THRESH_BINARY)\n",
    "\n",
    "edges = cv2.Canny(thresh, 50, 150)"
   ]
  },
  {
   "cell_type": "markdown",
   "id": "1e270395",
   "metadata": {},
   "source": [
    "1. 원본사진과 비교하기 위해서 원본사진을 보여준다.\n",
    "2. 윤곽선만 추출해낸 이미지를 보여준다.\n",
    "3. 사용자가 아무 키를 누를 때까지 실행한다.\n",
    "4. 아무 키가 입력되면 창을 닫는다."
   ]
  },
  {
   "cell_type": "code",
   "execution_count": 21,
   "id": "9a67e30e",
   "metadata": {},
   "outputs": [],
   "source": [
    "cv2.imshow('Original Image', img)\n",
    "cv2.imshow('Edges Image', edges)\n",
    "cv2.waitKey(0)\n",
    "cv2.destroyAllWindows()"
   ]
  }
 ],
 "metadata": {
  "kernelspec": {
   "display_name": "Python 3 (ipykernel)",
   "language": "python",
   "name": "python3"
  },
  "language_info": {
   "codemirror_mode": {
    "name": "ipython",
    "version": 3
   },
   "file_extension": ".py",
   "mimetype": "text/x-python",
   "name": "python",
   "nbconvert_exporter": "python",
   "pygments_lexer": "ipython3",
   "version": "3.11.2"
  }
 },
 "nbformat": 4,
 "nbformat_minor": 5
}
